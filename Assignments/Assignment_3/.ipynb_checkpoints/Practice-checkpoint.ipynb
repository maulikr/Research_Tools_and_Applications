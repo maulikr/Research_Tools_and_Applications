{
 "cells": [
  {
   "cell_type": "code",
   "execution_count": 2,
   "metadata": {},
   "outputs": [
    {
     "name": "stdout",
     "output_type": "stream",
     "text": [
      "error= 2.1194508517653183e-07\n"
     ]
    },
    {
     "data": {
      "image/png": "[encoded data removed]",
      "text/plain": [
       "<matplotlib.figure.Figure at 0x24e9ce87898>"
      ]
     },
     "metadata": {},
     "output_type": "display_data"
    }
   ],
   "source": [
    "import numpy as np\n",
    "import scipy.linalg as la\n",
    "import matplotlib.pyplot as plt\n",
    "\n",
    "N = 25 # number of elements\n",
    "le = 0. # left end\n",
    "re = 5. # right end\n",
    "dx = re/N # element size\n",
    "Ndof = 2*N + 1 # number of degrees of freedom\n",
    "x = np.linspace(le, re, Ndof)\n",
    "\n",
    "def rhsf0(x):\n",
    "  \"\"\" rhs function corresponding to exact solution u=1 \"\"\"\n",
    "  return 0*x+1.0\n",
    "\n",
    "def exact0(x):\n",
    "  \"\"\" exact solution corresponding to rhs function 1 \"\"\"\n",
    "  return 0*x+1.0\n",
    "\n",
    "def rhsf1(x):\n",
    "  \"\"\" rhs function = x \"\"\"\n",
    "  return x\n",
    "\n",
    "def exact1(x):\n",
    "  \"\"\" exact solution corresponding to rhs function x \"\"\"\n",
    "  a1=( np.cosh(re) - 1 )/np.sinh(re)\n",
    "  return a1 * np.cosh(x) - np.sinh(x) + x\n",
    "\n",
    "# choose which problem to solve\n",
    "rhsf = rhsf1\n",
    "exact = exact1\n",
    "\n",
    "# shape functions\n",
    "phi = [lambda xi: 2.0 * (xi - 0.5) * (xi - 1.0) ,\\\n",
    "       lambda xi: 4.0 * xi * (1.0 - xi), \\\n",
    "       lambda xi: 2.0 * xi * (xi - 0.5)]\n",
    "\n",
    "# derivative of shape functions w.r.t. xi\n",
    "dphi = [lambda xi: 2.0 * (xi - 0.5) + 2.0*(xi - 1.0) ,\\\n",
    "        lambda xi: -4.0 * xi + 4.0*(1.0 - xi), \\\n",
    "        lambda xi: 2.0 * xi + 2.0*(xi - 0.5)]\n",
    "\n",
    "# Gauss points and weights\n",
    "gausspts = np.array(\\\n",
    "          (.112701665379258311482073460022,.5,.887298334620741688517926539978))\n",
    "gausswts = np.array((5.0/18.0,8.0/18.0,5.0/18.0))\n",
    "\n",
    "# compute elemental RHS vector by integrating over one element\n",
    "# int( f(x)*phi_i(x) dx ) = int ( f((xi+i)*(delta x))*(delta x) dxi )\n",
    "def int_f_phi(i,f):\n",
    "  # get f at Gauss points\n",
    "  vf = gausswts * dx * f( (gausspts+i)*dx )\n",
    "  # multply by ph\n",
    "  v = np.array( [np.dot( phi[0](gausspts) , vf ), \\\n",
    "                 np.dot( phi[1](gausspts) , vf ), \\\n",
    "                 np.dot( phi[2](gausspts) , vf )  ]  )\n",
    "  return v\n",
    "\n",
    "# assenble RHS vector\n",
    "rhsvec=np.zeros(Ndof)\n",
    "for i in range(N):\n",
    "    rhsvec[ 2*i : 2*i+3 ] += int_f_phi(i,rhsf)\n",
    "\n",
    "# compute elemental matrix for \\int \\phi \\phi\n",
    "elemstiff1=np.zeros([3,3])\n",
    "for i in range(3):\n",
    "  f=np.array( [phi[0]( gausspts[i] ), phi[1]( gausspts[i] ), \n",
    "               phi[2]( gausspts[i] ) ] )\n",
    "  elemstiff1 += gausswts[i] * dx * np.outer( f, f )\n",
    "\n",
    "# compute elemental matrix for \\int \\phi' \\phi'\n",
    "elemstiff2=np.zeros([3,3])\n",
    "for i in range(3):\n",
    "  f=np.array( [dphi[0]( gausspts[i] ), dphi[1]( gausspts[i] ), \\\n",
    "               dphi[2]( gausspts[i] ) ] )\n",
    "  elemstiff2 += gausswts[i] / dx * np.outer( f, f )\n",
    "\n",
    "# Assemble the constant elemental terms of the stiffness matrix A\n",
    "# int(phi_i*phi_j)\n",
    "Amat1=np.zeros([Ndof, Ndof])\n",
    "for i in range(N):\n",
    "  Amat1[  2*i : 2*i+3 , 2*i : 2*i+3 ] += elemstiff1\n",
    "\n",
    "# int(phi_i'*phi_j')\n",
    "Amat2=np.zeros([Ndof, Ndof])\n",
    "for i in range(N):\n",
    "  Amat2[  2*i : 2*i+3 , 2*i : 2*i+3 ] += elemstiff2\n",
    "  \n",
    "Amat = Amat1 + Amat2\n",
    "\n",
    "u = la.solve(Amat,rhsvec)\n",
    "\n",
    "# print \"u=\",u\n",
    "# print \"exact=\", exact(x)\n",
    "\n",
    "print (\"error=\", la.norm( u - exact(x) )/la.norm( exact( x ) ))\n",
    "\n",
    "# plot true solution against computed solution\n",
    "xplot = np.linspace( x[0], x[-1], 1000)\n",
    "uexactplot = exact( xplot )\n",
    "\n",
    "plt.plot(xplot, uexactplot, 'r', x, u, 'b')\n",
    "plt.show()\n"
   ]
  },
  {
   "cell_type": "code",
   "execution_count": null,
   "metadata": {
    "collapsed": true
   },
   "outputs": [],
   "source": []
  }
 ],
 "metadata": {
  "kernelspec": {
   "display_name": "Python 3",
   "language": "python",
   "name": "python3"
  },
  "language_info": {
   "codemirror_mode": {
    "name": "ipython",
    "version": 3
   },
   "file_extension": ".py",
   "mimetype": "text/x-python",
   "name": "python",
   "nbconvert_exporter": "python",
   "pygments_lexer": "ipython3",
   "version": "3.6.1"
  }
 },
 "nbformat": 4,
 "nbformat_minor": 2
}
