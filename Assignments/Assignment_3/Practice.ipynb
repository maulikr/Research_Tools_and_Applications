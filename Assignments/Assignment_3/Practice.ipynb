{
 "cells": [
  {
   "cell_type": "code",
   "execution_count": 2,
   "metadata": {},
   "outputs": [
    {
     "name": "stdout",
     "output_type": "stream",
     "text": [
      "error= 2.1194508517653183e-07\n"
     ]
    },
    {
     "data": {
      "image/png": "[encoded data removed]",
      "text/plain": [
       "<matplotlib.figure.Figure at 0x2386a1b8908>"
      ]
     },
     "metadata": {},
     "output_type": "display_data"
    }
   ],
   "source": [
    "import numpy as np\n",
    "import scipy.linalg as la\n",
    "import matplotlib.pyplot as plt\n",
    "\n",
    "N = 25 # number of elements\n",
    "le = 0. # left end\n",
    "re = 5. # right end\n",
    "dx = re/N # element size\n",
    "Ndof = 2*N + 1 # number of degrees of freedom\n",
    "x = np.linspace(le, re, Ndof)\n",
    "\n",
    "def rhsf0(x):\n",
    "  \"\"\" rhs function corresponding to exact solution u=1 \"\"\"\n",
    "  return 0*x+1.0\n",
    "\n",
    "def exact0(x):\n",
    "  \"\"\" exact solution corresponding to rhs function 1 \"\"\"\n",
    "  return 0*x+1.0\n",
    "\n",
    "def rhsf1(x):\n",
    "  \"\"\" rhs function = x \"\"\"\n",
    "  return x\n",
    "\n",
    "def exact1(x):\n",
    "  \"\"\" exact solution corresponding to rhs function x \"\"\"\n",
    "  a1=( np.cosh(re) - 1 )/np.sinh(re)\n",
    "  return a1 * np.cosh(x) - np.sinh(x) + x\n",
    "\n",
    "# choose which problem to solve\n",
    "rhsf = rhsf1\n",
    "exact = exact1\n",
    "\n",
    "# shape functions\n",
    "phi = [lambda xi: 2.0 * (xi - 0.5) * (xi - 1.0) ,\\\n",
    "       lambda xi: 4.0 * xi * (1.0 - xi), \\\n",
    "       lambda xi: 2.0 * xi * (xi - 0.5)]\n",
    "\n",
    "# derivative of shape functions w.r.t. xi\n",
    "dphi = [lambda xi: 2.0 * (xi - 0.5) + 2.0*(xi - 1.0) ,\\\n",
    "        lambda xi: -4.0 * xi + 4.0*(1.0 - xi), \\\n",
    "        lambda xi: 2.0 * xi + 2.0*(xi - 0.5)]\n",
    "\n",
    "# Gauss points and weights\n",
    "gausspts = np.array(\\\n",
    "          (.112701665379258311482073460022,.5,.887298334620741688517926539978))\n",
    "gausswts = np.array((5.0/18.0,8.0/18.0,5.0/18.0))\n",
    "\n",
    "# compute elemental RHS vector by integrating over one element\n",
    "# int( f(x)*phi_i(x) dx ) = int ( f((xi+i)*(delta x))*(delta x) dxi )\n",
    "def int_f_phi(i,f):\n",
    "  # get f at Gauss points\n",
    "  vf = gausswts * dx * f( (gausspts+i)*dx )\n",
    "  # multply by ph\n",
    "  v = np.array( [np.dot( phi[0](gausspts) , vf ), \\\n",
    "                 np.dot( phi[1](gausspts) , vf ), \\\n",
    "                 np.dot( phi[2](gausspts) , vf )  ]  )\n",
    "  return v\n",
    "\n",
    "# assenble RHS vector\n",
    "rhsvec=np.zeros(Ndof)\n",
    "for i in range(N):\n",
    "    rhsvec[ 2*i : 2*i+3 ] += int_f_phi(i,rhsf)\n",
    "\n",
    "# compute elemental matrix for \\int \\phi \\phi\n",
    "elemstiff1=np.zeros([3,3])\n",
    "for i in range(3):\n",
    "  f=np.array( [phi[0]( gausspts[i] ), phi[1]( gausspts[i] ), \n",
    "               phi[2]( gausspts[i] ) ] )\n",
    "  elemstiff1 += gausswts[i] * dx * np.outer( f, f )\n",
    "\n",
    "# compute elemental matrix for \\int \\phi' \\phi'\n",
    "elemstiff2=np.zeros([3,3])\n",
    "for i in range(3):\n",
    "  f=np.array( [dphi[0]( gausspts[i] ), dphi[1]( gausspts[i] ), \\\n",
    "               dphi[2]( gausspts[i] ) ] )\n",
    "  elemstiff2 += gausswts[i] / dx * np.outer( f, f )\n",
    "\n",
    "# Assemble the constant elemental terms of the stiffness matrix A\n",
    "# int(phi_i*phi_j)\n",
    "Amat1=np.zeros([Ndof, Ndof])\n",
    "for i in range(N):\n",
    "  Amat1[  2*i : 2*i+3 , 2*i : 2*i+3 ] += elemstiff1\n",
    "\n",
    "# int(phi_i'*phi_j')\n",
    "Amat2=np.zeros([Ndof, Ndof])\n",
    "for i in range(N):\n",
    "  Amat2[  2*i : 2*i+3 , 2*i : 2*i+3 ] += elemstiff2\n",
    "  \n",
    "Amat = Amat1 + Amat2\n",
    "\n",
    "u = la.solve(Amat,rhsvec)\n",
    "\n",
    "# print \"u=\",u\n",
    "# print \"exact=\", exact(x)\n",
    "\n",
    "print (\"error=\", la.norm( u - exact(x) )/la.norm( exact( x ) ))\n",
    "\n",
    "# plot true solution against computed solution\n",
    "xplot = np.linspace( x[0], x[-1], 1000)\n",
    "uexactplot = exact( xplot )\n",
    "\n",
    "plt.plot(xplot, uexactplot, 'r', x, u, 'b')\n",
    "plt.tight_layout()\n",
    "plt.show()\n",
    "\n"
   ]
  },
  {
   "cell_type": "code",
   "execution_count": 3,
   "metadata": {},
   "outputs": [
    {
     "name": "stdout",
     "output_type": "stream",
     "text": [
      "x= [1, 2]  y= [3, 4, [1, 2]]  z= [3, 4, [1, 2]]\n",
      "y= [3, 4, [1, 2]]  z= [3, 4, [1, 2]]  c= [3, 4, [1, 2]]  d= [3, 4, [1, 2]]\n",
      "y= ['*', 4, [1, 2]]  z= ['*', 4, [1, 2]]  c= [3, 4, [1, 2]]  d= [3, 4, [1, 2]]\n",
      "x= [9, 2]  y= ['*', 4, [9, 2]]  z= ['*', 4, [9, 2]]  c= [3, 4, [9, 2]]  d= [3, 4, [1, 2]]\n",
      "x= [9, 'c']  y= ['*', 4, [9, 'c']]  z= ['*', 4, [9, 'c']]  c= [3, 4, [9, 'c']]  d= [3, 4, [1, 2]]\n"
     ]
    }
   ],
   "source": [
    "import copy as cp\n",
    "\n",
    "x = [1, 2]\n",
    "y = [3, 4, x]\n",
    "z = y\n",
    "print (\"x=\",x,\" y=\",y,\" z=\",z)\n",
    "\n",
    "c=cp.copy(y)\n",
    "d=cp.deepcopy(y)\n",
    "print (\"y=\",y,\" z=\",z,\" c=\",c,\" d=\",d)\n",
    "\n",
    "y[0] = '*'\n",
    "print (\"y=\",y,\" z=\",z,\" c=\",c,\" d=\",d)\n",
    "\n",
    "z[2][0] = 9\n",
    "print (\"x=\",x,\" y=\",y,\" z=\",z,\" c=\",c,\" d=\",d)\n",
    "\n",
    "c[2][1] = 'c'\n",
    "print (\"x=\",x,\" y=\",y,\" z=\",z,\" c=\",c,\" d=\",d)\n"
   ]
  },
  {
   "cell_type": "code",
   "execution_count": 5,
   "metadata": {},
   "outputs": [
    {
     "name": "stderr",
     "output_type": "stream",
     "text": [
      "C:\\Users\\Administrator\\SWC-conda\\lib\\site-packages\\ipykernel_launcher.py:23: MatplotlibDeprecationWarning: pyplot.hold is deprecated.\n",
      "    Future behavior will be consistent with the long-time default:\n",
      "    plot commands add elements without first clearing the\n",
      "    Axes and/or Figure.\n",
      "C:\\Users\\Administrator\\SWC-conda\\lib\\site-packages\\matplotlib\\__init__.py:917: UserWarning: axes.hold is deprecated. Please remove it from your matplotlibrc and/or style files.\n",
      "  warnings.warn(self.msg_depr_set % key)\n",
      "C:\\Users\\Administrator\\SWC-conda\\lib\\site-packages\\matplotlib\\rcsetup.py:152: UserWarning: axes.hold is deprecated, will be removed in 3.0\n",
      "  warnings.warn(\"axes.hold is deprecated, will be removed in 3.0\")\n"
     ]
    },
    {
     "data": {
      "image/png": "[encoded data removed]",
      "text/plain": [
       "<matplotlib.figure.Figure at 0x23868bf04e0>"
      ]
     },
     "metadata": {},
     "output_type": "display_data"
    }
   ],
   "source": [
    "import numpy as np\n",
    "import scipy.linalg as la\n",
    "import matplotlib.pyplot as plt\n",
    "\n",
    "# shape functions\n",
    "phi = [lambda xi: 2.0 * (xi - 0.5) * (xi - 1.0) ,\\\n",
    "       lambda xi: 4.0 * xi * (1.0 - xi), \\\n",
    "       lambda xi: 2.0 * xi * (xi - 0.5)]\n",
    "\n",
    "L = 5\n",
    "N = 5\n",
    "dx = float(L)/float(N)\n",
    "Ndof = 2*N+1\n",
    "Nplot = 100\n",
    "x = np.linspace(0,L,Ndof)\n",
    "xiplot = np.linspace(0,1,Nplot)\n",
    "\n",
    "def plotphi(k,n,hold):\n",
    "    \"\"\"\n",
    "    plot one of the shape functions\n",
    "    use \"hold on\" if hold is true, not if not\n",
    "    \"\"\"\n",
    "    assert( k>=0 and k<=N)\n",
    "    xplot = (k+xiplot)*dx\n",
    "    plt.hold(hold)\n",
    "    plt.plot(xplot,phi[n](xiplot),label=\"elt%d num%d\"%(k,n) )\n",
    "    \n",
    "plotphi(2,0,False)\n",
    "plotphi(1,2,True)\n",
    "plotphi(4,1,True)\n",
    "plt.legend(loc='upper center')\n",
    "\n",
    "plt.show()\n"
   ]
  },
  {
   "cell_type": "code",
   "execution_count": null,
   "metadata": {
    "collapsed": true
   },
   "outputs": [],
   "source": []
  }
 ],
 "metadata": {
  "kernelspec": {
   "display_name": "Python 3",
   "language": "python",
   "name": "python3"
  },
  "language_info": {
   "codemirror_mode": {
    "name": "ipython",
    "version": 3
   },
   "file_extension": ".py",
   "mimetype": "text/x-python",
   "name": "python",
   "nbconvert_exporter": "python",
   "pygments_lexer": "ipython3",
   "version": "3.6.1"
  }
 },
 "nbformat": 4,
 "nbformat_minor": 2
}
