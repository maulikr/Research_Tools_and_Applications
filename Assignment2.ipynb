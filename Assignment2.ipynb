{
 "cells": [
  {
   "cell_type": "markdown",
   "metadata": {},
   "source": [
    "# Assignment 2\n",
    "\n",
    "\n",
    "Due on Friday, May 26, 2017\n",
    "\n",
    "Solve all questions. You can also find the assignment on the course website, https://ostueker.github.io/CMSC6950-2017/\n",
    "\n",
    "[comment]: <> (Any two identical submitted assignments from different students will be considered as copies of each other.)\n",
    "\n",
    "Save your assignment as `ipynb` file with a filename ”userid_assignment2.ipynb”. [For userid, I mean your MUN user id/email .e.g. abc123 and\n",
    "not your student number]. Submit your assignment through D2L dropbox. \n",
    "\n",
    "### Name : Maulik Rawal\n",
    "### Student Number: 201599310\n",
    "\n",
    "## Question 1\n",
    "\n",
    "\n",
    "Write a function that does the following. Given two float values, return their multiplication. Unless the two values are the same, then return triple their sum. Then test your function for both cases."
   ]
  },
  {
   "cell_type": "code",
   "execution_count": 2,
   "metadata": {
    "collapsed": true
   },
   "outputs": [],
   "source": [
    "def question_1(x,y):\n",
    "    if x != y:\n",
    "        print(\"The multiplication of two numbers = \")\n",
    "        return(x*y)\n",
    "    else:\n",
    "        print(\"Triple of the sum of the both the numbers = \")\n",
    "        return((x+y)*3)"
   ]
  },
  {
   "cell_type": "code",
   "execution_count": 3,
   "metadata": {
    "scrolled": true
   },
   "outputs": [
    {
     "name": "stdout",
     "output_type": "stream",
     "text": [
      "The multiplication of two numbers = \n"
     ]
    },
    {
     "data": {
      "text/plain": [
       "26.7066"
      ]
     },
     "execution_count": 3,
     "metadata": {},
     "output_type": "execute_result"
    }
   ],
   "source": [
    "question_1(4.5,5.9348)"
   ]
  },
  {
   "cell_type": "code",
   "execution_count": 4,
   "metadata": {},
   "outputs": [
    {
     "name": "stdout",
     "output_type": "stream",
     "text": [
      "Triple of the sum of the both the numbers = \n"
     ]
    },
    {
     "data": {
      "text/plain": [
       "33.333330000000004"
      ]
     },
     "execution_count": 4,
     "metadata": {},
     "output_type": "execute_result"
    }
   ],
   "source": [
    "question_1(5.555555,5.555555)"
   ]
  },
  {
   "cell_type": "markdown",
   "metadata": {},
   "source": [
    "## Question 2\n",
    "\n",
    "\n",
    "Write a function that does the following. Given an int n, return True if it is within 20 of 50 or 150. Note that the given int n could be positive or negative or zero. You must use the function abs(num) to compute the absolute value of a number. Then test your function."
   ]
  },
  {
   "cell_type": "code",
   "execution_count": 7,
   "metadata": {
    "collapsed": true
   },
   "outputs": [],
   "source": [
    "from math import fabs\n",
    "\n",
    "def question_2(n):\n",
    "    if abs(n) <= 170 and abs(n) >= 130:\n",
    "        print (\"The number is within 150\")\n",
    "    elif abs(n) <= 70 and abs(n) >= 30:\n",
    "        print (\"The number is within 50\")\n",
    "    else:\n",
    "        print (\"Out of bound..!!!\")"
   ]
  },
  {
   "cell_type": "code",
   "execution_count": 8,
   "metadata": {
    "scrolled": true
   },
   "outputs": [
    {
     "name": "stdout",
     "output_type": "stream",
     "text": [
      "Out of bound..!!!\n"
     ]
    }
   ],
   "source": [
    "question_2(71)"
   ]
  },
  {
   "cell_type": "code",
   "execution_count": 9,
   "metadata": {},
   "outputs": [
    {
     "name": "stdout",
     "output_type": "stream",
     "text": [
      "The number is within 50\n"
     ]
    }
   ],
   "source": [
    "question_2(30)"
   ]
  },
  {
   "cell_type": "code",
   "execution_count": 10,
   "metadata": {
    "scrolled": true
   },
   "outputs": [
    {
     "name": "stdout",
     "output_type": "stream",
     "text": [
      "The number is within 50\n"
     ]
    }
   ],
   "source": [
    "question_2(-55)"
   ]
  },
  {
   "cell_type": "code",
   "execution_count": 11,
   "metadata": {},
   "outputs": [
    {
     "name": "stdout",
     "output_type": "stream",
     "text": [
      "The number is within 150\n"
     ]
    }
   ],
   "source": [
    "question_2(151)"
   ]
  },
  {
   "cell_type": "code",
   "execution_count": 12,
   "metadata": {},
   "outputs": [
    {
     "name": "stdout",
     "output_type": "stream",
     "text": [
      "The number is within 150\n"
     ]
    }
   ],
   "source": [
    "question_2(-160)"
   ]
  },
  {
   "cell_type": "markdown",
   "metadata": {},
   "source": [
    "## Question 3\n",
    "\n",
    "\n",
    "Define a function that computes the length of a given list or string or a tuple or a dictionary. Test your function for the four cases."
   ]
  },
  {
   "cell_type": "code",
   "execution_count": 13,
   "metadata": {
    "collapsed": true
   },
   "outputs": [],
   "source": [
    "def question_3(n):\n",
    "    print('The lengths of the given input is: ')\n",
    "    return len(n)"
   ]
  },
  {
   "cell_type": "code",
   "execution_count": 14,
   "metadata": {},
   "outputs": [
    {
     "name": "stdout",
     "output_type": "stream",
     "text": [
      "The lengths of the given input is: \n"
     ]
    },
    {
     "data": {
      "text/plain": [
       "4"
      ]
     },
     "execution_count": 14,
     "metadata": {},
     "output_type": "execute_result"
    }
   ],
   "source": [
    "case1 = (12, 2, \"maulik\", 4)\n",
    "question_3(case1)"
   ]
  },
  {
   "cell_type": "code",
   "execution_count": 15,
   "metadata": {},
   "outputs": [
    {
     "name": "stdout",
     "output_type": "stream",
     "text": [
      "The lengths of the given input is: \n"
     ]
    },
    {
     "data": {
      "text/plain": [
       "11"
      ]
     },
     "execution_count": 15,
     "metadata": {},
     "output_type": "execute_result"
    }
   ],
   "source": [
    "case2 = (\"maulikrawal\")\n",
    "question_3(case2)"
   ]
  },
  {
   "cell_type": "code",
   "execution_count": 16,
   "metadata": {},
   "outputs": [
    {
     "name": "stdout",
     "output_type": "stream",
     "text": [
      "The lengths of the given input is: \n"
     ]
    },
    {
     "data": {
      "text/plain": [
       "2"
      ]
     },
     "execution_count": 16,
     "metadata": {},
     "output_type": "execute_result"
    }
   ],
   "source": [
    "case3 = {'Name': 'Zara', 'Age': 7, 'Name': 'Manni'}\n",
    "question_3(case3)"
   ]
  },
  {
   "cell_type": "code",
   "execution_count": 17,
   "metadata": {},
   "outputs": [
    {
     "name": "stdout",
     "output_type": "stream",
     "text": [
      "The lengths of the given input is: \n"
     ]
    },
    {
     "data": {
      "text/plain": [
       "5"
      ]
     },
     "execution_count": 17,
     "metadata": {},
     "output_type": "execute_result"
    }
   ],
   "source": [
    "case4 = (12, 2, \"maulik\", 4, {'Name': 'Zara', 'Age': 7, 'Name': 'Manni'} )\n",
    "question_3(case4)"
   ]
  },
  {
   "cell_type": "markdown",
   "metadata": {
    "collapsed": true
   },
   "source": [
    "## Question 4\n",
    "Write a function that takes a character (i.e. a string of length 1) and returns True if it is a vowel, False otherwise. Write the the vowels as a string \"aAeEiIoOuU\", and make a condition if the input character is in the vowels string. Test the function."
   ]
  },
  {
   "cell_type": "code",
   "execution_count": 18,
   "metadata": {
    "collapsed": true
   },
   "outputs": [],
   "source": [
    "def question_4(n):\n",
    "    the_vowel = [\"a\",\"e\",\"i\",\"o\",\"u\",\"A\",\"E\",\"I\",\"O\",\"U\"]\n",
    "\n",
    "    if n[0] in the_vowel:\n",
    "        print (\"vowel.\")\n",
    "    else:\n",
    "        print (\"constant.\")"
   ]
  },
  {
   "cell_type": "code",
   "execution_count": 19,
   "metadata": {},
   "outputs": [
    {
     "name": "stdout",
     "output_type": "stream",
     "text": [
      "constant.\n"
     ]
    }
   ],
   "source": [
    "question_4(\"b\")"
   ]
  },
  {
   "cell_type": "code",
   "execution_count": 20,
   "metadata": {},
   "outputs": [
    {
     "name": "stdout",
     "output_type": "stream",
     "text": [
      "vowel.\n"
     ]
    }
   ],
   "source": [
    "question_4(\"A\")"
   ]
  },
  {
   "cell_type": "markdown",
   "metadata": {
    "collapsed": true
   },
   "source": [
    "## Question 5\n",
    "Define a function is_it_palindrome() that recognizes palindromes (i.e. words that look the same written backwards). For example, is_it_palindrome(\"Radar\") should return True. Then write a for loop to test the function for all strings in the list,\n",
    "```python \n",
    "l=[\"Anna\",\"Civic\",\"Kayak\",\"Level\",\"Madam\",\"Mom\",\"Noon\",\"Racecar\",\"Computer\"]\n",
    "```"
   ]
  },
  {
   "cell_type": "code",
   "execution_count": 60,
   "metadata": {
    "collapsed": true
   },
   "outputs": [],
   "source": [
    "def palindrome(string):\n",
    "    l1 = [item.lower() for item in l]\n",
    "    left_pos = 0\n",
    "    right_pos = len(string) - 1\n",
    "    while right_pos >= left_pos:\n",
    "        if not string[left_pos] == string[right_pos]:\n",
    "            return False\n",
    "        left_pos += 1\n",
    "        right_pos -= 1\n",
    "    return True\n",
    "\n",
    "def is_it_palindrome(string):\n",
    "    for t in l1:\n",
    "        print(t,':', palindrome(t))"
   ]
  },
  {
   "cell_type": "code",
   "execution_count": 61,
   "metadata": {
    "scrolled": true
   },
   "outputs": [
    {
     "name": "stdout",
     "output_type": "stream",
     "text": [
      "anna : True\n",
      "civic : True\n",
      "kayak : True\n",
      "level : True\n",
      "madam : True\n",
      "mom : True\n",
      "noon : True\n",
      "racecar : True\n",
      "computer : False\n"
     ]
    }
   ],
   "source": [
    "l=[\"Anna\",\"Civic\",\"Kayak\",\"Level\",\"Madam\",\"Mom\",\"Noon\",\"Racecar\",\"Computer\"]\n",
    "is_it_palindrome(l)"
   ]
  },
  {
   "cell_type": "markdown",
   "metadata": {
    "collapsed": true
   },
   "source": [
    "# Question 6\n",
    "Write a function translate_Swedish() that will translate a text into \"rövarspråket\" (Swedish for \"robber's language\"). That is, double every consonant and place an occurrence of \"o\" in between. Test the funstion with translate_Swedish(\"this is fun\") should return the string \"tothohisos isos fofunon\"."
   ]
  },
  {
   "cell_type": "code",
   "execution_count": 62,
   "metadata": {
    "collapsed": true
   },
   "outputs": [],
   "source": [
    "def translate_Swedish(n):\n",
    "    l = ['b','c','d','f','g','h','j','k','l','m','n','p','q','r','s','t','v','w','x','z','B','C','D','F','G','H','J','K','L','M','N','P','Q','R','S','T','V','Q','X','Y','Z']\n",
    "    #l = [\"a\",\"e\",\"i\",\"o\",\"u\",\"A\",\"E\",\"I\",\"O\",\"U\"]\n",
    "    n = list(n)\n",
    "    for string  in n:\n",
    "        if string == string in l:\n",
    "           n[n.index(string)] = string + 'o' + string\n",
    "    print (''.join(n))"
   ]
  },
  {
   "cell_type": "code",
   "execution_count": 63,
   "metadata": {},
   "outputs": [
    {
     "name": "stdout",
     "output_type": "stream",
     "text": [
      "HoHelollolo, MoMy nonamome isos MoMaulolikok RoRawowalol...!!!\n"
     ]
    }
   ],
   "source": [
    "translate_Swedish('Hello, My name is Maulik Rawal...!!!')"
   ]
  },
  {
   "cell_type": "markdown",
   "metadata": {},
   "source": [
    "## Question 7\n",
    "\n",
    "\n",
    "Define a function overlap() that takes two lists and returns True if they have at least one element in common, False otherwise. For the sake of the exercise, you should write it using two nested for-loops."
   ]
  },
  {
   "cell_type": "code",
   "execution_count": 64,
   "metadata": {
    "collapsed": true
   },
   "outputs": [],
   "source": [
    "def overlap(a,b):\n",
    "    for char1 in a:\n",
    "        for char2 in b:\n",
    "            if char1 == char2: return True\n",
    "    return False\n",
    "\n",
    "a=[7,8,9]\n",
    "b=[1,2,3,4,5,6]\n",
    "c=[6,7,8]"
   ]
  },
  {
   "cell_type": "code",
   "execution_count": 65,
   "metadata": {},
   "outputs": [
    {
     "data": {
      "text/plain": [
       "False"
      ]
     },
     "execution_count": 65,
     "metadata": {},
     "output_type": "execute_result"
    }
   ],
   "source": [
    "overlap(a,b)"
   ]
  },
  {
   "cell_type": "code",
   "execution_count": 66,
   "metadata": {
    "scrolled": true
   },
   "outputs": [
    {
     "data": {
      "text/plain": [
       "True"
      ]
     },
     "execution_count": 66,
     "metadata": {},
     "output_type": "execute_result"
    }
   ],
   "source": [
    "overlap(b,c)"
   ]
  },
  {
   "cell_type": "code",
   "execution_count": 67,
   "metadata": {},
   "outputs": [
    {
     "data": {
      "text/plain": [
       "True"
      ]
     },
     "execution_count": 67,
     "metadata": {},
     "output_type": "execute_result"
    }
   ],
   "source": [
    "overlap(a,c)"
   ]
  },
  {
   "cell_type": "markdown",
   "metadata": {
    "collapsed": true
   },
   "source": [
    "## Question 8\n",
    "In English, the present participle is formed by adding the suffix -ing to the infinite form: go -> going. A simple set of heuristic rules can be given as follows:\n",
    "\n",
    "If the verb ends in e, drop the e and add ing (if not exception: be, see, flee, knee, etc.)\n",
    "If the verb ends in ie, change ie to y and add ing\n",
    "For words consisting of consonant-vowel-consonant, double the final letter before adding ing\n",
    "By default just add ing\n",
    "Your task in this exercise is to define a function make_ing_form_English() which given a verb in infinitive form returns its present participle form. Test your function with words such as lie, see, move and hug. However, you must not expect such simple rules to work for all cases."
   ]
  },
  {
   "cell_type": "code",
   "execution_count": 68,
   "metadata": {
    "collapsed": true
   },
   "outputs": [],
   "source": [
    "def is_vowel(char):\n",
    "    vowels = (\"a\",\"e\",\"i\",\"o\",\"u\",\"A\",\"E\",\"I\",\"O\",\"U\")\n",
    "    if char not in vowels:\n",
    "        return False\n",
    "    return True\n",
    "\n",
    "def make_ing_form_English(verb):\n",
    "    if verb.endswith('ie'):\n",
    "        return verb[:-2] + 'ying'\n",
    "    elif verb.endswith('e') and (verb[-2].endswith('e') or len(verb) == 2):\n",
    "        return verb + 'ing'\n",
    "    elif verb.endswith('e'):\n",
    "        return verb[:-1] + 'ing'\n",
    "    elif not is_vowel(verb[-1]) and is_vowel(verb[-2]) and not is_vowel(verb[-3]):\n",
    "        return verb + verb[-1] + 'ing'\n",
    "    else:\n",
    "        return verb + 'ing'\n"
   ]
  },
  {
   "cell_type": "code",
   "execution_count": 69,
   "metadata": {},
   "outputs": [
    {
     "data": {
      "text/plain": [
       "'moving'"
      ]
     },
     "execution_count": 69,
     "metadata": {},
     "output_type": "execute_result"
    }
   ],
   "source": [
    "make_ing_form_English('move')"
   ]
  },
  {
   "cell_type": "code",
   "execution_count": 70,
   "metadata": {},
   "outputs": [
    {
     "data": {
      "text/plain": [
       "'being'"
      ]
     },
     "execution_count": 70,
     "metadata": {},
     "output_type": "execute_result"
    }
   ],
   "source": [
    "make_ing_form_English('be')"
   ]
  },
  {
   "cell_type": "code",
   "execution_count": 71,
   "metadata": {},
   "outputs": [
    {
     "data": {
      "text/plain": [
       "'lying'"
      ]
     },
     "execution_count": 71,
     "metadata": {},
     "output_type": "execute_result"
    }
   ],
   "source": [
    "make_ing_form_English('lie')"
   ]
  },
  {
   "cell_type": "code",
   "execution_count": 72,
   "metadata": {},
   "outputs": [
    {
     "data": {
      "text/plain": [
       "'seeing'"
      ]
     },
     "execution_count": 72,
     "metadata": {},
     "output_type": "execute_result"
    }
   ],
   "source": [
    "make_ing_form_English('see')"
   ]
  },
  {
   "cell_type": "code",
   "execution_count": 73,
   "metadata": {},
   "outputs": [
    {
     "data": {
      "text/plain": [
       "'moving'"
      ]
     },
     "execution_count": 73,
     "metadata": {},
     "output_type": "execute_result"
    }
   ],
   "source": [
    "make_ing_form_English('move')"
   ]
  },
  {
   "cell_type": "code",
   "execution_count": 74,
   "metadata": {},
   "outputs": [
    {
     "data": {
      "text/plain": [
       "'hugging'"
      ]
     },
     "execution_count": 74,
     "metadata": {},
     "output_type": "execute_result"
    }
   ],
   "source": [
    "make_ing_form_English('hug')"
   ]
  }
 ],
 "metadata": {
  "kernelspec": {
   "display_name": "Python 3",
   "language": "python",
   "name": "python3"
  },
  "language_info": {
   "codemirror_mode": {
    "name": "ipython",
    "version": 3
   },
   "file_extension": ".py",
   "mimetype": "text/x-python",
   "name": "python",
   "nbconvert_exporter": "python",
   "pygments_lexer": "ipython3",
   "version": "3.6.1"
  }
 },
 "nbformat": 4,
 "nbformat_minor": 2
}
