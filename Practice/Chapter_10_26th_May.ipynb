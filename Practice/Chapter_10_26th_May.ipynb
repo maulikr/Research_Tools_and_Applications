{
 "cells": [
  {
   "cell_type": "markdown",
   "metadata": {},
   "source": [
    "# Files in Python"
   ]
  },
  {
   "cell_type": "code",
   "execution_count": 1,
   "metadata": {},
   "outputs": [
    {
     "name": "stdout",
     "output_type": "stream",
     "text": [
      "Data-24th May.ipynb  decays.html          matrix.txt\r\n",
      "decays.csv           many_decays.csv      \u001b[34mnumpy_data\u001b[m\u001b[m/\r\n"
     ]
    }
   ],
   "source": [
    "%ls numpy_data/"
   ]
  },
  {
   "cell_type": "code",
   "execution_count": 2,
   "metadata": {},
   "outputs": [
    {
     "name": "stdout",
     "output_type": "stream",
     "text": [
      "1,4,15,9\r\n",
      "0,11,7,3\r\n",
      "2,8,12,13\r\n",
      "14,5,10,6"
     ]
    }
   ],
   "source": [
    "cat numpy_data/matrix.txt"
   ]
  },
  {
   "cell_type": "code",
   "execution_count": 3,
   "metadata": {
    "collapsed": true
   },
   "outputs": [],
   "source": [
    "f = open('numpy_data/matrix.txt') \n",
    "matrix = []\n",
    "\n",
    "for line in f.readlines():\n",
    "    row = [int(x) for x in line.split(',')]\n",
    "    matrix.append(row)\n",
    "    \n",
    "f.close()"
   ]
  },
  {
   "cell_type": "code",
   "execution_count": 4,
   "metadata": {},
   "outputs": [
    {
     "data": {
      "text/plain": [
       "[[1, 4, 15, 9], [0, 11, 7, 3], [2, 8, 12, 13], [14, 5, 10, 6]]"
      ]
     },
     "execution_count": 4,
     "metadata": {},
     "output_type": "execute_result"
    }
   ],
   "source": [
    "matrix"
   ]
  },
  {
   "cell_type": "code",
   "execution_count": null,
   "metadata": {
    "collapsed": true
   },
   "outputs": [],
   "source": [
    "f = open('numpy_data/matrix2.txt', 'w')\n",
    "for row in matrix:\n",
    "    line = \",\".join([str(x) for x in row])\n",
    "    f.write(line + \"\\n\")\n",
    "f.close()"
   ]
  },
  {
   "cell_type": "code",
   "execution_count": 6,
   "metadata": {},
   "outputs": [
    {
     "name": "stdout",
     "output_type": "stream",
     "text": [
      "1,4,15,9\r\n",
      "0,11,7,3\r\n",
      "2,8,12,13\r\n",
      "14,5,10,6\r\n"
     ]
    }
   ],
   "source": [
    "cat numpy_data/matrix2.txt"
   ]
  },
  {
   "cell_type": "code",
   "execution_count": 7,
   "metadata": {
    "collapsed": true
   },
   "outputs": [],
   "source": [
    "f = open('numpy_data/matrix2.txt', 'a')\n",
    "for row in matrix:\n",
    "    line = \",\".join([str(x) for x in row])\n",
    "    f.write(line + \"\\n\")\n",
    "f.close()"
   ]
  },
  {
   "cell_type": "code",
   "execution_count": 8,
   "metadata": {},
   "outputs": [
    {
     "name": "stdout",
     "output_type": "stream",
     "text": [
      "1,4,15,9\r\n",
      "0,11,7,3\r\n",
      "2,8,12,13\r\n",
      "14,5,10,6\r\n",
      "1,4,15,9\r\n",
      "0,11,7,3\r\n",
      "2,8,12,13\r\n",
      "14,5,10,6\r\n"
     ]
    }
   ],
   "source": [
    "cat numpy_data/matrix2.txt"
   ]
  },
  {
   "cell_type": "code",
   "execution_count": 9,
   "metadata": {
    "collapsed": true
   },
   "outputs": [],
   "source": [
    "f = open('numpy_data/matrix2.txt', 'r+')\n",
    "orig = f.read()\n",
    "f.seek(0)\n",
    "f.write(orig)\n",
    "f.write('0,0,0,0\\n')\n",
    "f.close()"
   ]
  },
  {
   "cell_type": "code",
   "execution_count": 10,
   "metadata": {},
   "outputs": [
    {
     "name": "stdout",
     "output_type": "stream",
     "text": [
      "1,4,15,9\r\n",
      "0,11,7,3\r\n",
      "2,8,12,13\r\n",
      "14,5,10,6\r\n",
      "1,4,15,9\r\n",
      "0,11,7,3\r\n",
      "2,8,12,13\r\n",
      "14,5,10,6\r\n",
      "0,0,0,0\r\n"
     ]
    }
   ],
   "source": [
    "cat numpy_data/matrix2.txt"
   ]
  },
  {
   "cell_type": "code",
   "execution_count": 14,
   "metadata": {},
   "outputs": [
    {
     "name": "stdout",
     "output_type": "stream",
     "text": [
      "1,4,15,9\n",
      "\n",
      "0,11,7,3\n",
      "\n",
      "2,8,12,13\n",
      "\n",
      "14,5,10,6\n",
      "\n",
      "1,4,15,9\n",
      "\n",
      "0,11,7,3\n",
      "\n",
      "2,8,12,13\n",
      "\n",
      "14,5,10,6\n",
      "\n",
      "0,0,0,0\n",
      "\n",
      "done..!!\n"
     ]
    }
   ],
   "source": [
    "with open('numpy_data/matrix2.txt', 'r+') as inputfile:\n",
    "    for line in inputfile:\n",
    "        print (line)\n",
    "        \n",
    "print(\"done..!!\")"
   ]
  },
  {
   "cell_type": "code",
   "execution_count": 20,
   "metadata": {},
   "outputs": [
    {
     "name": "stdout",
     "output_type": "stream",
     "text": [
      "1,4,15,9\n",
      "0,11,7,3\n",
      "2,8,12,13\n",
      "14,5,10,6\n",
      "\n",
      "\n",
      "done..!!\n"
     ]
    }
   ],
   "source": [
    "with open('numpy_data/matrix.txt', 'r+') as inputfile:\n",
    "    for line in inputfile:\n",
    "        print (line.replace('\\n',''))\n",
    "        \n",
    "print(\"\\n\\ndone..!!\")"
   ]
  },
  {
   "cell_type": "code",
   "execution_count": null,
   "metadata": {
    "collapsed": true
   },
   "outputs": [],
   "source": []
  }
 ],
 "metadata": {
  "kernelspec": {
   "display_name": "Python 3",
   "language": "python",
   "name": "python3"
  },
  "language_info": {
   "codemirror_mode": {
    "name": "ipython",
    "version": 3
   },
   "file_extension": ".py",
   "mimetype": "text/x-python",
   "name": "python",
   "nbconvert_exporter": "python",
   "pygments_lexer": "ipython3",
   "version": "3.6.1"
  }
 },
 "nbformat": 4,
 "nbformat_minor": 2
}
